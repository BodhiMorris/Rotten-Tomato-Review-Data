{
 "cells": [
  {
   "cell_type": "markdown",
   "metadata": {},
   "source": [
    "## __Identifying and Defining__\n",
    "\n",
    "__Data__\\\n",
    "    I am looking to find data that is about reviews of some meadia over a long time with dates.\n",
    "\n",
    "__Goal__\\\n",
    "    I am trying to find if there is a gereral decrease in media quality over the past few years and too see when the reviews were the highest.\n",
    "\n",
    "__Source__\\\n",
    "    https://www.kaggle.com/datasets/priyamchoksi/rotten-tomato-movie-reviews-1-44m-rows\n",
    "\n",
    "__Access__\\\n",
    "    This data set is publicaly availible on the Kaggle site\n",
    "\n",
    "__Access Method__\\\n",
    "    This file is in the .csv format"
   ]
  },
  {
   "cell_type": "markdown",
   "metadata": {},
   "source": [
    "## __Functional Requirements__"
   ]
  }
 ],
 "metadata": {
  "language_info": {
   "name": "python"
  }
 },
 "nbformat": 4,
 "nbformat_minor": 2
}
