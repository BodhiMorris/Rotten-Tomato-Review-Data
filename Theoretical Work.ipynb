{
 "cells": [
  {
   "cell_type": "markdown",
   "metadata": {},
   "source": [
    "## __Identifying and Defining__\n",
    "\n",
    "__Data__\\\n",
    "    I am looking to find data that is about reviews of some meadia over a long time with dates.\n",
    "\n",
    "__Goal__\\\n",
    "    I am trying to find if there is a gereral decrease in media quality over the past few years and too see when the reviews were the highest.\n",
    "\n",
    "__Source__\\\n",
    "    https://www.kaggle.com/datasets/priyamchoksi/rotten-tomato-movie-reviews-1-44m-rows\n",
    "\n",
    "__Access__\\\n",
    "    This data set is publicaly availible on the Kaggle site\n",
    "\n",
    "__Access Method__\\\n",
    "    This file is in the .csv format"
   ]
  },
  {
   "cell_type": "markdown",
   "metadata": {},
   "source": [
    "## __Functional Requirements__\n",
    "__Data Loading__\\\n",
    "Description: The program needs to properly load the file and report if an error occurs\\\n",
    "Input: The user will have to input the correct data-set\\\n",
    "Output: A pandas dataframe or a error\n",
    "\n",
    "__Actor:__ User\\\n",
    "__Goal:__ To load a dataset into the system.\\\n",
    "__Preconditions:__ User has a dataset file ready.\\\n",
    "__Main Flow:__\n",
    "1. User places the dataset for reading into the correct folder.\\\n",
    "1. System validates the file format.\\\n",
    "1. System loads the dataset and displays the information in a dataframe.\\\n",
    "__Postconditions:__ Dataset is loaded and ready for analysis.\n",
    "\n",
    "__Data Cleaning__\\\n",
    "Description: The program will shorten the data into a more usable size\\\n",
    "Input: Input the pandas dataframe\\\n",
    "Output: A heavily shortened form of the data with only profesional reviews\n",
    "\n",
    "__Actor:__ User\\\n",
    "__Goal:__ Shorten the data to a more usable form\\\n",
    "__Preconditions:__ The dataset has been loaded into the program\\\n",
    "__Main Flow:__\n",
    "1. \\\n",
    "1. \\\n",
    "1. \\\n",
    "__Postconditions:__ \n",
    "\n",
    "__Data Analysis__\\\n",
    "Description: The program will find the mean of multiple inputs of the same movie\\\n",
    "Input: Cleaned dataframe\\\n",
    "Output: A dataset with averaged inputs for each film\n",
    "\n",
    "__Data Visualization__\\\n",
    "Description: The program need to create a Matpolid chart comparing the ratings of movies against time\\\n",
    "Input: The dataframe with averaged results\\\n",
    "Output: A chart comparing time to rating\n",
    "\n",
    "__Data Reporting__\\\n",
    "Description: The program needs to save the new dataset and visualization to a file\\\n",
    "Input: The dataset with averaged results and Matpolid chart\\\n",
    "Output: A file saved in the original folder"
   ]
  }
 ],
 "metadata": {
  "language_info": {
   "name": "python"
  }
 },
 "nbformat": 4,
 "nbformat_minor": 2
}
